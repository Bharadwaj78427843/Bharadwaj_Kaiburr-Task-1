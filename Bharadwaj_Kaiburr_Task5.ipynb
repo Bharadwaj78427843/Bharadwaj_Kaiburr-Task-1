{
 "cells": [
  {
   "cell_type": "code",
   "execution_count": 4,
   "id": "030c7ecc-a291-4264-90a5-e209faa52acf",
   "metadata": {},
   "outputs": [
    {
     "name": "stdout",
     "output_type": "stream",
     "text": [
      "[Sun Sep 28 11:22:10 2025] Starting Data Science Task...\n"
     ]
    },
    {
     "data": {
      "image/png": "[encoded data removed]",
      "text/plain": [
       "<Figure size 700x500 with 1 Axes>"
      ]
     },
     "metadata": {},
     "output_type": "display_data"
    },
    {
     "name": "stdout",
     "output_type": "stream",
     "text": [
      "\n",
      "Category Counts:\n",
      " Product\n",
      "Debt collection    364007\n",
      "Mortgage           133980\n",
      "Consumer Loan        9461\n",
      "Name: count, dtype: int64 \n",
      "\n",
      "[Sun Sep 28 11:32:52 2025] Text Pre-Processing Complete.\n"
     ]
    }
   ],
   "source": [
    "import pandas as pd\n",
    "import re\n",
    "import matplotlib.pyplot as plt\n",
    "import seaborn as sns\n",
    "from sklearn.model_selection import train_test_split\n",
    "from sklearn.feature_extraction.text import TfidfVectorizer\n",
    "from sklearn.feature_extraction import text\n",
    "from sklearn.linear_model import LogisticRegression\n",
    "from sklearn.naive_bayes import MultinomialNB\n",
    "from sklearn.svm import LinearSVC\n",
    "from sklearn.metrics import classification_report, accuracy_score, f1_score\n",
    "import time\n",
    "import os\n",
    "\n",
    "# --- Configuration ---\n",
    "DATA_FILE = 'complaints.csv'\n",
    "TARGET_CATEGORIES = [\n",
    "    \"Credit reporting, repair, or other\",\n",
    "    \"Debt collection\",\n",
    "    \"Consumer Loan\",\n",
    "    \"Mortgage\"\n",
    "]\n",
    "\n",
    "print(f\"[{time.ctime()}] Starting Data Science Task...\")\n",
    "\n",
    "# --- 1. Data Loading, Filtering, and EDA ---\n",
    "if not os.path.exists(DATA_FILE):\n",
    "    print(f\"ERROR: Data file '{DATA_FILE}' not found.\")\n",
    "    exit()\n",
    "\n",
    "df = pd.read_csv(DATA_FILE)\n",
    "df_filtered = df[df['Product'].isin(TARGET_CATEGORIES)].copy()\n",
    "df_filtered.dropna(subset=['Consumer complaint narrative'], inplace=True)\n",
    "\n",
    "# EDA: Distribution of categories\n",
    "plt.figure(figsize=(7,5))\n",
    "sns.countplot(y=df_filtered['Product'], order=df_filtered['Product'].value_counts().index)\n",
    "plt.title(\"Complaint Distribution by Product\")\n",
    "plt.show()\n",
    "\n",
    "print(\"\\nCategory Counts:\\n\", df_filtered['Product'].value_counts(), \"\\n\")\n",
    "\n",
    "# --- 2. Vectorized Text Pre-Processing ---\n",
    "stop_words = text.ENGLISH_STOP_WORDS\n",
    "\n",
    "def preprocess_series(series):\n",
    "    # Lowercase & remove non-alphabetic\n",
    "    series = series.str.lower().str.replace(r'[^a-zA-Z]', ' ', regex=True)\n",
    "    # Remove stopwords (vectorized)\n",
    "    series = series.apply(lambda x: ' '.join([w for w in x.split() if w not in stop_words]))\n",
    "    return series\n",
    "\n",
    "df_filtered['clean_narrative'] = preprocess_series(df_filtered['Consumer complaint narrative'])\n",
    "print(f\"[{time.ctime()}] Text Pre-Processing Complete.\")\n",
    "\n",
    "# --- 3. Feature Engineering ---\n",
    "category_to_id = {cat: i for i, cat in enumerate(TARGET_CATEGORIES)}\n",
    "id_to_category = {v: k for k, v in category_to_id.items()}\n",
    "df_filtered['category_id'] = df_filtered['Product'].map(category_to_id)\n",
    "\n",
    "tfidf = TfidfVectorizer(sublinear_tf=True, min_df=5, max_features=50000,\n",
    "                        norm='l2', encoding='latin-1', ngram_range=(1,2))\n",
    "features = tfidf.fit_transform(df_filtered['clean_narrative'])\n",
    "labels = df_filtered['category_id']\n",
    "\n",
    "X_train, X_test, y_train, y_test = train_test_split(\n",
    "    features, labels, test_size=0.25, random_state=42\n",
    ")\n",
    "\n",
    "\n",
    "\n"
   ]
  },
  {
   "cell_type": "code",
   "execution_count": 2,
   "id": "0bece9e1-2cd5-4052-bc3b-ea0feb60d01e",
   "metadata": {},
   "outputs": [
    {
     "name": "stdout",
     "output_type": "stream",
     "text": [
      "[Sun Sep 28 11:13:22 2025] Training Logistic Regression...\n"
     ]
    },
    {
     "name": "stderr",
     "output_type": "stream",
     "text": [
      "C:\\Users\\c2210\\AppData\\Local\\Programs\\Python\\Python312\\Lib\\site-packages\\sklearn\\linear_model\\_logistic.py:1256: FutureWarning: 'multi_class' was deprecated in version 1.5 and will be removed in 1.7. Use OneVsRestClassifier(LogisticRegression(..)) instead. Leave it to its default value to avoid this warning.\n",
      "  warnings.warn(\n"
     ]
    },
    {
     "name": "stdout",
     "output_type": "stream",
     "text": [
      "Logistic Regression Accuracy: 0.9708, F1 (macro): 0.8458\n",
      "                 precision    recall  f1-score   support\n",
      "\n",
      "Debt collection       0.98      0.99      0.98     91324\n",
      "  Consumer Loan       0.83      0.46      0.59      2395\n",
      "       Mortgage       0.96      0.97      0.96     33143\n",
      "\n",
      "       accuracy                           0.97    126862\n",
      "      macro avg       0.92      0.80      0.85    126862\n",
      "   weighted avg       0.97      0.97      0.97    126862\n",
      "\n",
      "============================================================\n",
      "[Sun Sep 28 11:14:26 2025] Training Naive Bayes...\n",
      "Naive Bayes Accuracy: 0.9468, F1 (macro): 0.7690\n",
      "                 precision    recall  f1-score   support\n",
      "\n",
      "Debt collection       0.98      0.95      0.97     91324\n",
      "  Consumer Loan       0.69      0.30      0.42      2395\n",
      "       Mortgage       0.87      0.98      0.92     33143\n",
      "\n",
      "       accuracy                           0.95    126862\n",
      "      macro avg       0.85      0.74      0.77    126862\n",
      "   weighted avg       0.95      0.95      0.94    126862\n",
      "\n",
      "============================================================\n",
      "[Sun Sep 28 11:14:27 2025] Training Linear SVM...\n",
      "Linear SVM Accuracy: 0.9720, F1 (macro): 0.8651\n",
      "                 precision    recall  f1-score   support\n",
      "\n",
      "Debt collection       0.98      0.99      0.98     91324\n",
      "  Consumer Loan       0.79      0.55      0.65      2395\n",
      "       Mortgage       0.96      0.97      0.96     33143\n",
      "\n",
      "       accuracy                           0.97    126862\n",
      "      macro avg       0.91      0.83      0.87    126862\n",
      "   weighted avg       0.97      0.97      0.97    126862\n",
      "\n",
      "============================================================\n",
      "\n",
      "Model Performance Comparison:\n",
      "\n",
      "                 Model  Accuracy  F1 (macro)\n",
      "0  Logistic Regression  0.970764    0.845823\n",
      "1          Naive Bayes  0.946777    0.768954\n",
      "2           Linear SVM  0.972040    0.865104\n"
     ]
    }
   ],
   "source": [
    "# --- 4. Model Selection & Training (Multiple Models) ---\n",
    "models = {\n",
    "    \"Logistic Regression\": LogisticRegression(random_state=42, solver='liblinear',\n",
    "                                              multi_class='ovr', max_iter=1000),\n",
    "    \"Naive Bayes\": MultinomialNB(),\n",
    "    \"Linear SVM\": LinearSVC(random_state=42)\n",
    "}\n",
    "\n",
    "results = []\n",
    "\n",
    "for name, model in models.items():\n",
    "    print(f\"[{time.ctime()}] Training {name}...\")\n",
    "    model.fit(X_train, y_train)\n",
    "    y_pred = model.predict(X_test)\n",
    "    acc = accuracy_score(y_test, y_pred)\n",
    "    f1 = f1_score(y_test, y_pred, average='macro')\n",
    "    results.append((name, acc, f1))\n",
    "    print(f\"{name} Accuracy: {acc:.4f}, F1 (macro): {f1:.4f}\")\n",
    "    import numpy as np\n",
    "    unique_labels = np.unique(y_test)  # classes actually present\n",
    "    present_target_names = [id_to_category[i] for i in unique_labels]\n",
    "    print(classification_report(y_test, y_pred, labels=unique_labels, target_names=present_target_names))\n",
    "    print(\"=\"*60)\n",
    "\n",
    "# --- 5. Model Comparison Table ---\n",
    "results_df = pd.DataFrame(results, columns=[\"Model\", \"Accuracy\", \"F1 (macro)\"])\n",
    "print(\"\\nModel Performance Comparison:\\n\")\n",
    "print(results_df)"
   ]
  },
  {
   "cell_type": "code",
   "execution_count": 3,
   "id": "d8124cfa-94c2-4808-b9a8-3844039a17bc",
   "metadata": {},
   "outputs": [
    {
     "name": "stdout",
     "output_type": "stream",
     "text": [
      "\n",
      "Prediction Sample: I received a notice that my house payment was late, despite sending the che...\n",
      "Predicted Category: Mortgage\n"
     ]
    }
   ],
   "source": [
    "# --- 6. Prediction Example ---\n",
    "best_model = models[\"Linear SVM\"]  # usually strongest\n",
    "\n",
    "def predict_complaint(text_str):\n",
    "    clean_text = ' '.join([w for w in re.sub(r'[^a-zA-Z]', ' ', text_str.lower()).split() if w not in stop_words])\n",
    "    features = tfidf.transform([clean_text])\n",
    "    prediction_id = best_model.predict(features)[0]\n",
    "    return id_to_category[prediction_id]\n",
    "\n",
    "sample_complaint = \"I received a notice that my house payment was late, despite sending the check on time. This is affecting my credit score unfairly.\"\n",
    "print(f\"\\nPrediction Sample: {sample_complaint[:75]}...\")\n",
    "print(f\"Predicted Category: {predict_complaint(sample_complaint)}\")\n"
   ]
  },
  {
   "cell_type": "code",
   "execution_count": null,
   "id": "a187efb3-f401-460f-8e49-076944ee7088",
   "metadata": {},
   "outputs": [],
   "source": []
  }
 ],
 "metadata": {
  "kernelspec": {
   "display_name": "Python 3 (ipykernel)",
   "language": "python",
   "name": "python3"
  },
  "language_info": {
   "codemirror_mode": {
    "name": "ipython",
    "version": 3
   },
   "file_extension": ".py",
   "mimetype": "text/x-python",
   "name": "python",
   "nbconvert_exporter": "python",
   "pygments_lexer": "ipython3",
   "version": "3.12.1"
  }
 },
 "nbformat": 4,
 "nbformat_minor": 5
}
